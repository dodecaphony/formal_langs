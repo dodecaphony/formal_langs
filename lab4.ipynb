{
  "nbformat": 4,
  "nbformat_minor": 0,
  "metadata": {
    "colab": {
      "provenance": []
    },
    "kernelspec": {
      "name": "python3",
      "display_name": "Python 3"
    },
    "language_info": {
      "name": "python"
    }
  },
  "cells": [
    {
      "cell_type": "code",
      "execution_count": 82,
      "metadata": {
        "id": "32YRmrAOoygX"
      },
      "outputs": [],
      "source": [
        "# !pip install russian-tagsets\n",
        "# !pip install sklearn-crfsuite\n",
        "# !pip install pymorphy2\n",
        "# !pip install conllu\n",
        "# !pip install scikit-learn==0.23.2\n",
        "# !pip install gitpython"
      ]
    },
    {
      "cell_type": "code",
      "source": [
        "from russian_tagsets import converters\n",
        "from pymorphy2 import MorphAnalyzer\n",
        "import sklearn_crfsuite\n",
        "from sklearn_crfsuite import metrics\n",
        "from sklearn_crfsuite import CRF\n",
        "import conllu\n",
        "import git\n",
        "import os"
      ],
      "metadata": {
        "id": "t_WX_N85pBkn"
      },
      "execution_count": 83,
      "outputs": []
    },
    {
      "cell_type": "code",
      "source": [
        "# repo_url = \"https://github.com/UniversalDependencies/UD_Russian-SynTagRus.git\"\n",
        "# repo_dir = os.path.join(os.getcwd(), \"UD_Russian-SynTagRus\")\n",
        "# git.Repo.clone_from(repo_url, repo_dir)\n",
        "\n",
        "file_path = os.path.join(repo_dir, \"ru_syntagrus-ud-train-c.conllu\")"
      ],
      "metadata": {
        "id": "-5HmFJlBsgXV"
      },
      "execution_count": 84,
      "outputs": []
    },
    {
      "cell_type": "code",
      "source": [
        "morph_analyzer = MorphAnalyzer()\n",
        "to_ud = converters.converter('opencorpora-int', 'ud20')\n",
        "infile = open(file_path, \"rt\", encoding=\"UTF8\")\n",
        "train_conllu_iter = conllu.parse_incr(infile)"
      ],
      "metadata": {
        "id": "Ycgpat82pE8q"
      },
      "execution_count": 85,
      "outputs": []
    },
    {
      "cell_type": "code",
      "source": [
        "def process_sentence(sent):\n",
        "    result = []\n",
        "    for token in sent:\n",
        "        try:\n",
        "            word = token['form']\n",
        "        except:\n",
        "            word = token\n",
        "        parses = morph_analyzer.parse(word)\n",
        "        top_3_parses = parses[:3]\n",
        "        ud_parses = []\n",
        "        for parse in top_3_parses:\n",
        "            ud_parse = to_ud(str(parse.tag))\n",
        "            parse_l = ud_parse.split()\n",
        "            lemma = parse.normal_form\n",
        "            upos = parse_l[0]\n",
        "            feats = parse_l[1]\n",
        "            ud_parses.append({'lemma': lemma, 'upos': upos, 'feats': feats})\n",
        "        result.append((word, ud_parses))\n",
        "    return result"
      ],
      "metadata": {
        "id": "XiRv3Z5-qbvG"
      },
      "execution_count": 86,
      "outputs": []
    },
    {
      "cell_type": "code",
      "source": [
        "def create_features(processed_sentence):\n",
        "    result = []\n",
        "    for pos in range(len(processed_sentence)):\n",
        "        word_features = {}\n",
        "        for j in range(-1, 2):\n",
        "            shift = pos + j\n",
        "            if 0 <= shift < len(processed_sentence):\n",
        "                word, ud_parses = processed_sentence[shift]\n",
        "                for k, parse in enumerate(ud_parses):\n",
        "                    prefix = f'{j}_{k}_'\n",
        "                    word_features[prefix + 'lemma'] = parse['lemma']\n",
        "                    word_features[prefix + 'upos'] = parse['upos']\n",
        "                    # word_features[prefix + 'feats'] = parse['feats']\n",
        "        result.append(word_features)\n",
        "    return result"
      ],
      "metadata": {
        "id": "YC8p8680t0C_"
      },
      "execution_count": 87,
      "outputs": []
    },
    {
      "cell_type": "code",
      "source": [
        "X_train = []\n",
        "y_train = []\n",
        "\n",
        "for idx, sent in enumerate(train_conllu_iter):\n",
        "    processed_sentence = process_sentence(sent)\n",
        "    sent_features = create_features(processed_sentence)\n",
        "    sent_labels = [token['upos'] for token in sent]\n",
        "    X_train.append(sent_features)\n",
        "    y_train.append(sent_labels)"
      ],
      "metadata": {
        "id": "oPtYf06pt0ul"
      },
      "execution_count": 88,
      "outputs": []
    },
    {
      "cell_type": "code",
      "source": [
        "X_train[0]"
      ],
      "metadata": {
        "colab": {
          "base_uri": "https://localhost:8080/"
        },
        "id": "zJfYUlSltWSS",
        "outputId": "33d85083-a1bd-498e-9cbe-0e4a5fef8d8c"
      },
      "execution_count": 93,
      "outputs": [
        {
          "output_type": "execute_result",
          "data": {
            "text/plain": [
              "[{'0_0_lemma': 'мой',\n",
              "  '0_0_upos': 'DET',\n",
              "  '0_1_lemma': 'мыть',\n",
              "  '0_1_upos': 'VERB',\n",
              "  '1_0_lemma': 'мать',\n",
              "  '1_0_upos': 'NOUN',\n",
              "  '1_1_lemma': 'мать',\n",
              "  '1_1_upos': 'NOUN'},\n",
              " {'-1_0_lemma': 'мой',\n",
              "  '-1_0_upos': 'DET',\n",
              "  '-1_1_lemma': 'мыть',\n",
              "  '-1_1_upos': 'VERB',\n",
              "  '0_0_lemma': 'мать',\n",
              "  '0_0_upos': 'NOUN',\n",
              "  '0_1_lemma': 'мать',\n",
              "  '0_1_upos': 'NOUN',\n",
              "  '1_0_lemma': ',',\n",
              "  '1_0_upos': 'PUNCT'},\n",
              " {'-1_0_lemma': 'мать',\n",
              "  '-1_0_upos': 'NOUN',\n",
              "  '-1_1_lemma': 'мать',\n",
              "  '-1_1_upos': 'NOUN',\n",
              "  '0_0_lemma': ',',\n",
              "  '0_0_upos': 'PUNCT',\n",
              "  '1_0_lemma': 'анна',\n",
              "  '1_0_upos': 'PROPN'},\n",
              " {'-1_0_lemma': ',',\n",
              "  '-1_0_upos': 'PUNCT',\n",
              "  '0_0_lemma': 'анна',\n",
              "  '0_0_upos': 'PROPN',\n",
              "  '1_0_lemma': 'всеволодович',\n",
              "  '1_0_upos': 'PROPN'},\n",
              " {'-1_0_lemma': 'анна',\n",
              "  '-1_0_upos': 'PROPN',\n",
              "  '0_0_lemma': 'всеволодович',\n",
              "  '0_0_upos': 'PROPN',\n",
              "  '1_0_lemma': 'мохов',\n",
              "  '1_0_upos': 'PROPN',\n",
              "  '1_1_lemma': 'мохов',\n",
              "  '1_1_upos': 'PROPN',\n",
              "  '1_2_lemma': 'мохов',\n",
              "  '1_2_upos': 'PROPN'},\n",
              " {'-1_0_lemma': 'всеволодович',\n",
              "  '-1_0_upos': 'PROPN',\n",
              "  '0_0_lemma': 'мохов',\n",
              "  '0_0_upos': 'PROPN',\n",
              "  '0_1_lemma': 'мохов',\n",
              "  '0_1_upos': 'PROPN',\n",
              "  '0_2_lemma': 'мохов',\n",
              "  '0_2_upos': 'PROPN',\n",
              "  '1_0_lemma': '(',\n",
              "  '1_0_upos': 'PUNCT'},\n",
              " {'-1_0_lemma': 'мохов',\n",
              "  '-1_0_upos': 'PROPN',\n",
              "  '-1_1_lemma': 'мохов',\n",
              "  '-1_1_upos': 'PROPN',\n",
              "  '-1_2_lemma': 'мохов',\n",
              "  '-1_2_upos': 'PROPN',\n",
              "  '0_0_lemma': '(',\n",
              "  '0_0_upos': 'PUNCT',\n",
              "  '1_0_lemma': 'дмитриев',\n",
              "  '1_0_upos': 'PROPN',\n",
              "  '1_1_lemma': 'дмитриев',\n",
              "  '1_1_upos': 'PROPN',\n",
              "  '1_2_lemma': 'дмитриев',\n",
              "  '1_2_upos': 'PROPN'},\n",
              " {'-1_0_lemma': '(',\n",
              "  '-1_0_upos': 'PUNCT',\n",
              "  '0_0_lemma': 'дмитриев',\n",
              "  '0_0_upos': 'PROPN',\n",
              "  '0_1_lemma': 'дмитриев',\n",
              "  '0_1_upos': 'PROPN',\n",
              "  '0_2_lemma': 'дмитриев',\n",
              "  '0_2_upos': 'PROPN',\n",
              "  '1_0_lemma': ')',\n",
              "  '1_0_upos': 'PUNCT'},\n",
              " {'-1_0_lemma': 'дмитриев',\n",
              "  '-1_0_upos': 'PROPN',\n",
              "  '-1_1_lemma': 'дмитриев',\n",
              "  '-1_1_upos': 'PROPN',\n",
              "  '-1_2_lemma': 'дмитриев',\n",
              "  '-1_2_upos': 'PROPN',\n",
              "  '0_0_lemma': ')',\n",
              "  '0_0_upos': 'PUNCT',\n",
              "  '1_0_lemma': ',',\n",
              "  '1_0_upos': 'PUNCT'},\n",
              " {'-1_0_lemma': ')',\n",
              "  '-1_0_upos': 'PUNCT',\n",
              "  '0_0_lemma': ',',\n",
              "  '0_0_upos': 'PUNCT',\n",
              "  '1_0_lemma': 'родиться',\n",
              "  '1_0_upos': 'VERB',\n",
              "  '1_1_lemma': 'родиться',\n",
              "  '1_1_upos': 'VERB'},\n",
              " {'-1_0_lemma': ',',\n",
              "  '-1_0_upos': 'PUNCT',\n",
              "  '0_0_lemma': 'родиться',\n",
              "  '0_0_upos': 'VERB',\n",
              "  '0_1_lemma': 'родиться',\n",
              "  '0_1_upos': 'VERB',\n",
              "  '1_0_lemma': '27',\n",
              "  '1_0_upos': 'NUM'},\n",
              " {'-1_0_lemma': 'родиться',\n",
              "  '-1_0_upos': 'VERB',\n",
              "  '-1_1_lemma': 'родиться',\n",
              "  '-1_1_upos': 'VERB',\n",
              "  '0_0_lemma': '27',\n",
              "  '0_0_upos': 'NUM',\n",
              "  '1_0_lemma': 'март',\n",
              "  '1_0_upos': 'NOUN',\n",
              "  '1_1_lemma': 'марта',\n",
              "  '1_1_upos': 'PROPN'},\n",
              " {'-1_0_lemma': '27',\n",
              "  '-1_0_upos': 'NUM',\n",
              "  '0_0_lemma': 'март',\n",
              "  '0_0_upos': 'NOUN',\n",
              "  '0_1_lemma': 'марта',\n",
              "  '0_1_upos': 'PROPN',\n",
              "  '1_0_lemma': '1913',\n",
              "  '1_0_upos': 'NUM'},\n",
              " {'-1_0_lemma': 'март',\n",
              "  '-1_0_upos': 'NOUN',\n",
              "  '-1_1_lemma': 'марта',\n",
              "  '-1_1_upos': 'PROPN',\n",
              "  '0_0_lemma': '1913',\n",
              "  '0_0_upos': 'NUM',\n",
              "  '1_0_lemma': 'год',\n",
              "  '1_0_upos': 'NOUN',\n",
              "  '1_1_lemma': 'год',\n",
              "  '1_1_upos': 'NOUN',\n",
              "  '1_2_lemma': 'год',\n",
              "  '1_2_upos': 'NOUN'},\n",
              " {'-1_0_lemma': '1913',\n",
              "  '-1_0_upos': 'NUM',\n",
              "  '0_0_lemma': 'год',\n",
              "  '0_0_upos': 'NOUN',\n",
              "  '0_1_lemma': 'год',\n",
              "  '0_1_upos': 'NOUN',\n",
              "  '0_2_lemma': 'год',\n",
              "  '0_2_upos': 'NOUN',\n",
              "  '1_0_lemma': '.',\n",
              "  '1_0_upos': 'PUNCT'},\n",
              " {'-1_0_lemma': 'год',\n",
              "  '-1_0_upos': 'NOUN',\n",
              "  '-1_1_lemma': 'год',\n",
              "  '-1_1_upos': 'NOUN',\n",
              "  '-1_2_lemma': 'год',\n",
              "  '-1_2_upos': 'NOUN',\n",
              "  '0_0_lemma': '.',\n",
              "  '0_0_upos': 'PUNCT'}]"
            ]
          },
          "metadata": {},
          "execution_count": 93
        }
      ]
    },
    {
      "cell_type": "code",
      "source": [
        "y_train[0]"
      ],
      "metadata": {
        "colab": {
          "base_uri": "https://localhost:8080/"
        },
        "id": "jAsdyV1lq_OB",
        "outputId": "6697914e-8eaf-42ae-f7b3-c608e4269a30"
      },
      "execution_count": 90,
      "outputs": [
        {
          "output_type": "execute_result",
          "data": {
            "text/plain": [
              "['DET',\n",
              " 'NOUN',\n",
              " 'PUNCT',\n",
              " 'PROPN',\n",
              " 'PROPN',\n",
              " 'PROPN',\n",
              " 'PUNCT',\n",
              " 'PROPN',\n",
              " 'PUNCT',\n",
              " 'PUNCT',\n",
              " 'VERB',\n",
              " 'ADJ',\n",
              " 'NOUN',\n",
              " 'ADJ',\n",
              " 'NOUN',\n",
              " 'PUNCT']"
            ]
          },
          "metadata": {},
          "execution_count": 90
        }
      ]
    },
    {
      "cell_type": "code",
      "source": [
        "testfile_path = os.path.join(repo_dir, \"ru_syntagrus-ud-test.conllu\")\n",
        "testfile = open(testfile_path, \"rt\", encoding=\"UTF8\")"
      ],
      "metadata": {
        "id": "HU18rYTDuH6O"
      },
      "execution_count": 123,
      "outputs": []
    },
    {
      "cell_type": "code",
      "source": [
        "X_test, y_test = [], []\n",
        "\n",
        "test_conllu_iter = conllu.parse_incr(testfile)\n",
        "for idx, sent in enumerate(test_conllu_iter):\n",
        "    processed_sentence = process_sentence(sent)\n",
        "    sent_features = create_features(processed_sentence)\n",
        "    sent_labels = [token['upos'] for token in sent]\n",
        "    X_test.append(sent_features)\n",
        "    y_test.append(sent_labels)"
      ],
      "metadata": {
        "id": "lz8s1yO5uV2p"
      },
      "execution_count": 124,
      "outputs": []
    },
    {
      "cell_type": "code",
      "source": [
        "print(y_test[0])\n",
        "print(X_test[0])"
      ],
      "metadata": {
        "colab": {
          "base_uri": "https://localhost:8080/"
        },
        "id": "1TeEGXjt6NHi",
        "outputId": "cb665aae-fa08-45c0-bcac-46c8ba3e5160"
      },
      "execution_count": 125,
      "outputs": [
        {
          "output_type": "stream",
          "name": "stdout",
          "text": [
            "['ADP', 'ADJ', 'NOUN', 'NOUN', 'NOUN', 'PROPN', 'PUNCT', 'NOUN', 'ADP', 'PROPN', 'VERB', 'ADP', 'NUM', 'NOUN', 'PUNCT']\n",
            "[{'0_0_lemma': 'в', '0_0_upos': 'ADP', '0_1_lemma': 'в', '0_1_upos': 'NOUN', '0_2_lemma': 'в', '0_2_upos': 'NOUN', '1_0_lemma': 'советский', '1_0_upos': 'ADJ', '1_1_lemma': 'советский', '1_1_upos': 'ADJ'}, {'-1_0_lemma': 'в', '-1_0_upos': 'ADP', '-1_1_lemma': 'в', '-1_1_upos': 'NOUN', '-1_2_lemma': 'в', '-1_2_upos': 'NOUN', '0_0_lemma': 'советский', '0_0_upos': 'ADJ', '0_1_lemma': 'советский', '0_1_upos': 'ADJ', '1_0_lemma': 'период', '1_0_upos': 'NOUN', '1_1_lemma': 'период', '1_1_upos': 'NOUN'}, {'-1_0_lemma': 'советский', '-1_0_upos': 'ADJ', '-1_1_lemma': 'советский', '-1_1_upos': 'ADJ', '0_0_lemma': 'период', '0_0_upos': 'NOUN', '0_1_lemma': 'период', '0_1_upos': 'NOUN', '1_0_lemma': 'время', '1_0_upos': 'NOUN', '1_1_lemma': 'время', '1_1_upos': 'NOUN', '1_2_lemma': 'время', '1_2_upos': 'NOUN'}, {'-1_0_lemma': 'период', '-1_0_upos': 'NOUN', '-1_1_lemma': 'период', '-1_1_upos': 'NOUN', '0_0_lemma': 'время', '0_0_upos': 'NOUN', '0_1_lemma': 'время', '0_1_upos': 'NOUN', '0_2_lemma': 'время', '0_2_upos': 'NOUN', '1_0_lemma': 'число', '1_0_upos': 'NOUN', '1_1_lemma': 'число', '1_1_upos': 'NOUN'}, {'-1_0_lemma': 'время', '-1_0_upos': 'NOUN', '-1_1_lemma': 'время', '-1_1_upos': 'NOUN', '-1_2_lemma': 'время', '-1_2_upos': 'NOUN', '0_0_lemma': 'число', '0_0_upos': 'NOUN', '0_1_lemma': 'число', '0_1_upos': 'NOUN', '1_0_lemma': 'ит', '1_0_upos': 'NOUN', '1_1_lemma': 'ит', '1_1_upos': 'NOUN', '1_2_lemma': 'ит', '1_2_upos': 'NOUN'}, {'-1_0_lemma': 'число', '-1_0_upos': 'NOUN', '-1_1_lemma': 'число', '-1_1_upos': 'NOUN', '0_0_lemma': 'ит', '0_0_upos': 'NOUN', '0_1_lemma': 'ит', '0_1_upos': 'NOUN', '0_2_lemma': 'ит', '0_2_upos': 'NOUN', '1_0_lemma': '-', '1_0_upos': 'PUNCT'}, {'-1_0_lemma': 'ит', '-1_0_upos': 'NOUN', '-1_1_lemma': 'ит', '-1_1_upos': 'NOUN', '-1_2_lemma': 'ит', '-1_2_upos': 'NOUN', '0_0_lemma': '-', '0_0_upos': 'PUNCT', '1_0_lemma': 'специалист', '1_0_upos': 'NOUN', '1_1_lemma': 'специалист', '1_1_upos': 'NOUN'}, {'-1_0_lemma': '-', '-1_0_upos': 'PUNCT', '0_0_lemma': 'специалист', '0_0_upos': 'NOUN', '0_1_lemma': 'специалист', '0_1_upos': 'NOUN', '1_0_lemma': 'в', '1_0_upos': 'ADP', '1_1_lemma': 'в', '1_1_upos': 'NOUN', '1_2_lemma': 'в', '1_2_upos': 'NOUN'}, {'-1_0_lemma': 'специалист', '-1_0_upos': 'NOUN', '-1_1_lemma': 'специалист', '-1_1_upos': 'NOUN', '0_0_lemma': 'в', '0_0_upos': 'ADP', '0_1_lemma': 'в', '0_1_upos': 'NOUN', '0_2_lemma': 'в', '0_2_upos': 'NOUN', '1_0_lemma': 'армения', '1_0_upos': 'PROPN', '1_1_lemma': 'армения', '1_1_upos': 'PROPN', '1_2_lemma': 'армения', '1_2_upos': 'PROPN'}, {'-1_0_lemma': 'в', '-1_0_upos': 'ADP', '-1_1_lemma': 'в', '-1_1_upos': 'NOUN', '-1_2_lemma': 'в', '-1_2_upos': 'NOUN', '0_0_lemma': 'армения', '0_0_upos': 'PROPN', '0_1_lemma': 'армения', '0_1_upos': 'PROPN', '0_2_lemma': 'армения', '0_2_upos': 'PROPN', '1_0_lemma': 'составлять', '1_0_upos': 'VERB'}, {'-1_0_lemma': 'армения', '-1_0_upos': 'PROPN', '-1_1_lemma': 'армения', '-1_1_upos': 'PROPN', '-1_2_lemma': 'армения', '-1_2_upos': 'PROPN', '0_0_lemma': 'составлять', '0_0_upos': 'VERB', '1_0_lemma': 'около', '1_0_upos': 'ADP', '1_1_lemma': 'около', '1_1_upos': 'ADV'}, {'-1_0_lemma': 'составлять', '-1_0_upos': 'VERB', '0_0_lemma': 'около', '0_0_upos': 'ADP', '0_1_lemma': 'около', '0_1_upos': 'ADV', '1_0_lemma': 'десять', '1_0_upos': 'NUM', '1_1_lemma': 'десять', '1_1_upos': 'NUM', '1_2_lemma': 'десять', '1_2_upos': 'NUM'}, {'-1_0_lemma': 'около', '-1_0_upos': 'ADP', '-1_1_lemma': 'около', '-1_1_upos': 'ADV', '0_0_lemma': 'десять', '0_0_upos': 'NUM', '0_1_lemma': 'десять', '0_1_upos': 'NUM', '0_2_lemma': 'десять', '0_2_upos': 'NUM', '1_0_lemma': 'тысяча', '1_0_upos': 'NOUN'}, {'-1_0_lemma': 'десять', '-1_0_upos': 'NUM', '-1_1_lemma': 'десять', '-1_1_upos': 'NUM', '-1_2_lemma': 'десять', '-1_2_upos': 'NUM', '0_0_lemma': 'тысяча', '0_0_upos': 'NOUN', '1_0_lemma': '.', '1_0_upos': 'PUNCT'}, {'-1_0_lemma': 'тысяча', '-1_0_upos': 'NOUN', '0_0_lemma': '.', '0_0_upos': 'PUNCT'}]\n"
          ]
        }
      ]
    },
    {
      "cell_type": "code",
      "source": [
        "crf = CRF(\n",
        "    algorithm='lbfgs',\n",
        "    c1=0.1,\n",
        "    c2=0.1,\n",
        "    max_iterations=100,\n",
        "    keep_tempfiles=None,\n",
        "    all_possible_transitions=True\n",
        ")\n",
        "\n",
        "try:\n",
        "    crf.fit(X_train, y_train)\n",
        "except AttributeError:\n",
        "    pass"
      ],
      "metadata": {
        "id": "tUSn-_82uZ0C"
      },
      "execution_count": 126,
      "outputs": []
    },
    {
      "cell_type": "code",
      "source": [
        "y_pred = crf.predict(X_test)"
      ],
      "metadata": {
        "id": "71zroHSEueHx"
      },
      "execution_count": 127,
      "outputs": []
    },
    {
      "cell_type": "code",
      "source": [
        "import warnings\n",
        "from seqeval.metrics import classification_report as seq_classification_report\n",
        "\n",
        "warnings.filterwarnings(\"ignore\", category=UserWarning)\n",
        "\n",
        "print(seq_classification_report(y_test, y_pred))"
      ],
      "metadata": {
        "colab": {
          "base_uri": "https://localhost:8080/"
        },
        "id": "Eqp12KSGxxuP",
        "outputId": "ae2c9f67-55fa-43c3-8889-7830244f6762"
      },
      "execution_count": 154,
      "outputs": [
        {
          "output_type": "stream",
          "name": "stdout",
          "text": [
            "              precision    recall  f1-score   support\n",
            "\n",
            "         ART       0.84      0.88      0.86      4575\n",
            "        CONJ       0.93      0.97      0.95      8632\n",
            "          DJ       0.91      0.91      0.91     13443\n",
            "          DP       1.00      1.00      1.00     15061\n",
            "          DV       0.92      0.86      0.89      7526\n",
            "         ERB       0.98      0.97      0.98     17019\n",
            "          ET       0.81      0.94      0.87      4016\n",
            "         NTJ       0.94      0.65      0.77        23\n",
            "         OUN       0.96      0.97      0.96     31428\n",
            "         RON       0.95      0.93      0.94      7641\n",
            "        ROPN       0.87      0.68      0.76      4669\n",
            "          UM       0.90      0.81      0.85      2502\n",
            "        UNCT       1.00      1.00      1.00     27479\n",
            "          UX       0.92      0.95      0.93      1483\n",
            "          YM       0.99      1.00      1.00       165\n",
            "           _       0.53      0.92      0.67       283\n",
            "\n",
            "   micro avg       0.95      0.95      0.95    145945\n",
            "   macro avg       0.90      0.90      0.90    145945\n",
            "weighted avg       0.95      0.95      0.95    145945\n",
            "\n"
          ]
        }
      ]
    },
    {
      "cell_type": "code",
      "source": [
        "def disambiguate_sentence(sentence, crf):\n",
        "    processed_sentence = process_sentence(sentence.split())\n",
        "    sent_features = create_features(processed_sentence)\n",
        "    predicted_labels = crf.predict_single(sent_features)\n",
        "    result = []\n",
        "    for word, label in zip(sentence.split(), predicted_labels):\n",
        "        result.append((word, label))\n",
        "    return result"
      ],
      "metadata": {
        "id": "gMIFl6t9x9z2"
      },
      "execution_count": 155,
      "outputs": []
    },
    {
      "cell_type": "code",
      "source": [
        "sentence = \"Мама мыла раму, а я остался без мыла\""
      ],
      "metadata": {
        "id": "tyGWskHzAflB"
      },
      "execution_count": 162,
      "outputs": []
    },
    {
      "cell_type": "code",
      "source": [
        "disambiguated_sentence = disambiguate_sentence(sentence, crf)\n",
        "disambiguated_sentence"
      ],
      "metadata": {
        "colab": {
          "base_uri": "https://localhost:8080/"
        },
        "id": "43la3KRJAioZ",
        "outputId": "e94d1071-b782-44d8-bd6b-f324b4493a7c"
      },
      "execution_count": 163,
      "outputs": [
        {
          "output_type": "execute_result",
          "data": {
            "text/plain": [
              "[('Мама', 'NOUN'),\n",
              " ('мыла', 'VERB'),\n",
              " ('раму,', 'X'),\n",
              " ('а', 'CCONJ'),\n",
              " ('я', 'PRON'),\n",
              " ('остался', 'VERB'),\n",
              " ('без', 'ADP'),\n",
              " ('мыла', 'NOUN')]"
            ]
          },
          "metadata": {},
          "execution_count": 163
        }
      ]
    }
  ]
}